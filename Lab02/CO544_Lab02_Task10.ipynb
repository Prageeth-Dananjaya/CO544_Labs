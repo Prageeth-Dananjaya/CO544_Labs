{
 "cells": [
  {
   "cell_type": "markdown",
   "metadata": {},
   "source": [
    "CO544 - Lab02 - Task10"
   ]
  },
  {
   "cell_type": "code",
   "execution_count": 1,
   "metadata": {},
   "outputs": [],
   "source": [
    "# Importing necessary libraries\n",
    "import pandas as pd\n",
    "\n",
    "import matplotlib.pyplot as plt\n",
    "import numpy as np\n",
    "from sklearn.model_selection import train_test_split\n",
    "from sklearn.ensemble import RandomForestClassifier\n",
    "from sklearn.metrics import accuracy_score"
   ]
  },
  {
   "cell_type": "code",
   "execution_count": 2,
   "metadata": {},
   "outputs": [],
   "source": [
    "# Reading the dataset\n",
    "#\n",
    "data = pd.read_csv('magic04.data')\n"
   ]
  },
  {
   "cell_type": "code",
   "execution_count": 3,
   "metadata": {},
   "outputs": [],
   "source": [
    "#  Calculating the percentage of correctly classified examples\n",
    "# \n",
    "def PercentCorrect(Inputs, targets, weights):\n",
    "    N = len(targets)\n",
    "    nCorrect = 0\n",
    "    for n in range(N):\n",
    "        OneInput = Inputs[n,:]\n",
    "        if (targets[n]*np.dot(OneInput, weights) > 0):\n",
    "            nCorrect += 1 \n",
    "    return 100*nCorrect/N "
   ]
  },
  {
   "cell_type": "code",
   "execution_count": 6,
   "metadata": {},
   "outputs": [
    {
     "name": "stdout",
     "output_type": "stream",
     "text": [
      "(19019,)\n",
      "(14265, 10) (14265,) (4754, 10) (4754,)\n"
     ]
    }
   ],
   "source": [
    "targets = [] # Creating an empty list to store the target values\n",
    "targets = np.array(data.iloc[:, 10].values) # Extract values from the 10th column and store them in the targets list\n",
    "print(targets.shape)\n",
    "\n",
    "# Converting the target values to -1 and 1\n",
    "for i in range(len(targets)):\n",
    "    if(targets[i] == \"g\"):\n",
    "        targets[i] = -1\n",
    "    else:\n",
    "        targets[i] = 1\n",
    "\n",
    "X = data.iloc[:, 0:9+1] # Extracting the input features from the dataset\n",
    "\n",
    "NumDataPerClass = 4755 # Number of data points per class\n",
    "\n",
    "rIndex = np.random.permutation(X.shape[0])  # Shuffle row indices\n",
    "Xr = X.iloc[rIndex]  # Shuffle rows of X\n",
    "yr = targets[rIndex]  # Corresponding labels after shuffling\n",
    "\n",
    "X_train = Xr[0:3*NumDataPerClass] \n",
    "y_train = yr[0:3*NumDataPerClass]\n",
    "X_test = Xr[3*NumDataPerClass:4*NumDataPerClass]\n",
    "y_test = yr[3*NumDataPerClass:4*NumDataPerClass]\n",
    "print(X_train.shape, y_train.shape, X_test.shape, y_test.shape)\n",
    "\n",
    "Ntrain = NumDataPerClass\n",
    "Ntest = NumDataPerClass\n",
    "\n",
    "X_train = X_train.values\n",
    "X_test = X_test.values"
   ]
  },
  {
   "cell_type": "code",
   "execution_count": 8,
   "metadata": {},
   "outputs": [
    {
     "name": "stdout",
     "output_type": "stream",
     "text": [
      "Initial Percentage Correct:  34.88\n",
      "Percentage Correct After Training:  73.02  73.54\n"
     ]
    }
   ],
   "source": [
    "# Iterative error correcting learning\n",
    "# \n",
    "\n",
    "# Perceptron learning loop\n",
    "# Random initialization of weights\n",
    "w = np.random.randn(10)\n",
    "\n",
    "# What is the performance with the initial random weights?\n",
    "print('Initial Percentage Correct: %6.2f' %(PercentCorrect(X_train, y_train, w)))\n",
    "\n",
    "# Fixed number of iterations (think of better stopping criterion)\n",
    "MaxIter=1000\n",
    "# Learning rate (change this to see convergence changing)\n",
    "alpha = 0.002\n",
    "\n",
    "# Space to save answers for plotting\n",
    "P_train = np.zeros(MaxIter)\n",
    "P_test = np.zeros(MaxIter)\n",
    "\n",
    "# Main Loop\n",
    "for iter in range(MaxIter):\n",
    "    # Select a data item at random\n",
    "    r = np.floor(np.random.rand()*Ntrain).astype(int)\n",
    "    x = X_train[r,:]\n",
    "    \n",
    "    # If it is misclassified, update weights\n",
    "    if (y_train[r] * np.dot(x, w) < 0):\n",
    "       w += alpha * y_train[r] * x\n",
    "    # Evaluate trainign and test performances for plotting\n",
    "    P_train[iter] = PercentCorrect(X_train, y_train, w)\n",
    "    P_test[iter] = PercentCorrect(X_test, y_test, w)\n",
    "print('Percentage Correct After Training: %6.2f %6.2f'%(PercentCorrect(X_train, y_train, w), PercentCorrect(X_test, y_test, w)))"
   ]
  }
 ],
 "metadata": {
  "kernelspec": {
   "display_name": "Python 3",
   "language": "python",
   "name": "python3"
  },
  "language_info": {
   "codemirror_mode": {
    "name": "ipython",
    "version": 3
   },
   "file_extension": ".py",
   "mimetype": "text/x-python",
   "name": "python",
   "nbconvert_exporter": "python",
   "pygments_lexer": "ipython3",
   "version": "3.11.4"
  }
 },
 "nbformat": 4,
 "nbformat_minor": 2
}
